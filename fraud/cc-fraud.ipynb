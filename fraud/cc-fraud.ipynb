{
 "cells": [
  {
   "cell_type": "code",
   "execution_count": 1,
   "id": "bf0ab3fe",
   "metadata": {
    "_cell_guid": "b1076dfc-b9ad-4769-8c92-a6c4dae69d19",
    "_uuid": "8f2839f25d086af736a60e9eeb907d3b93b6e0e5",
    "execution": {
     "iopub.execute_input": "2023-11-10T10:19:04.047248Z",
     "iopub.status.busy": "2023-11-10T10:19:04.046246Z",
     "iopub.status.idle": "2023-11-10T10:19:04.959278Z",
     "shell.execute_reply": "2023-11-10T10:19:04.958303Z"
    },
    "papermill": {
     "duration": 0.927251,
     "end_time": "2023-11-10T10:19:04.961527",
     "exception": false,
     "start_time": "2023-11-10T10:19:04.034276",
     "status": "completed"
    },
    "tags": []
   },
   "outputs": [
    {
     "name": "stdout",
     "output_type": "stream",
     "text": [
      "/kaggle/input/creditcard/creditcard.csv\n"
     ]
    }
   ],
   "source": [
    "# This Python 3 environment comes with many helpful analytics libraries installed\n",
    "# It is defined by the kaggle/python Docker image: https://github.com/kaggle/docker-python\n",
    "# For example, here's several helpful packages to load\n",
    "\n",
    "import numpy as np # linear algebra\n",
    "import pandas as pd # data processing, CSV file I/O (e.g. pd.read_csv)\n",
    "\n",
    "# Input data files are available in the read-only \"../input/\" directory\n",
    "# For example, running this (by clicking run or pressing Shift+Enter) will list all files under the input directory\n",
    "\n",
    "import os\n",
    "for dirname, _, filenames in os.walk('/kaggle/input'):\n",
    "    for filename in filenames:\n",
    "        print(os.path.join(dirname, filename))\n",
    "\n",
    "# You can write up to 20GB to the current directory (/kaggle/working/) that gets preserved as output when you create a version using \"Save & Run All\" \n",
    "# You can also write temporary files to /kaggle/temp/, but they won't be saved outside of the current session"
   ]
  },
  {
   "cell_type": "code",
   "execution_count": 2,
   "id": "5e1077ab",
   "metadata": {
    "execution": {
     "iopub.execute_input": "2023-11-10T10:19:04.983342Z",
     "iopub.status.busy": "2023-11-10T10:19:04.982580Z",
     "iopub.status.idle": "2023-11-10T10:19:06.696936Z",
     "shell.execute_reply": "2023-11-10T10:19:06.695422Z"
    },
    "papermill": {
     "duration": 1.728303,
     "end_time": "2023-11-10T10:19:06.699930",
     "exception": false,
     "start_time": "2023-11-10T10:19:04.971627",
     "status": "completed"
    },
    "tags": []
   },
   "outputs": [],
   "source": [
    "from functools import partial \n",
    "\n",
    "import matplotlib.pyplot as plt \n",
    "import seaborn as sns\n"
   ]
  },
  {
   "cell_type": "markdown",
   "id": "f061e514",
   "metadata": {
    "papermill": {
     "duration": 0.009639,
     "end_time": "2023-11-10T10:19:06.719278",
     "exception": false,
     "start_time": "2023-11-10T10:19:06.709639",
     "status": "completed"
    },
    "tags": []
   },
   "source": [
    "## Loading data "
   ]
  },
  {
   "cell_type": "code",
   "execution_count": 3,
   "id": "fac330c4",
   "metadata": {
    "execution": {
     "iopub.execute_input": "2023-11-10T10:19:06.741295Z",
     "iopub.status.busy": "2023-11-10T10:19:06.740685Z",
     "iopub.status.idle": "2023-11-10T10:19:12.187160Z",
     "shell.execute_reply": "2023-11-10T10:19:12.185632Z"
    },
    "papermill": {
     "duration": 5.460955,
     "end_time": "2023-11-10T10:19:12.190169",
     "exception": false,
     "start_time": "2023-11-10T10:19:06.729214",
     "status": "completed"
    },
    "tags": []
   },
   "outputs": [],
   "source": [
    "# reading in the full dataset\n",
    "df_full = pd.read_csv('/kaggle/input/creditcard/creditcard.csv')"
   ]
  },
  {
   "cell_type": "code",
   "execution_count": 4,
   "id": "6f224d4d",
   "metadata": {
    "execution": {
     "iopub.execute_input": "2023-11-10T10:19:12.211623Z",
     "iopub.status.busy": "2023-11-10T10:19:12.210748Z",
     "iopub.status.idle": "2023-11-10T10:19:12.811505Z",
     "shell.execute_reply": "2023-11-10T10:19:12.810613Z"
    },
    "papermill": {
     "duration": 0.61438,
     "end_time": "2023-11-10T10:19:12.814292",
     "exception": false,
     "start_time": "2023-11-10T10:19:12.199912",
     "status": "completed"
    },
    "tags": []
   },
   "outputs": [
    {
     "data": {
      "text/html": [
       "<div>\n",
       "<style scoped>\n",
       "    .dataframe tbody tr th:only-of-type {\n",
       "        vertical-align: middle;\n",
       "    }\n",
       "\n",
       "    .dataframe tbody tr th {\n",
       "        vertical-align: top;\n",
       "    }\n",
       "\n",
       "    .dataframe thead th {\n",
       "        text-align: right;\n",
       "    }\n",
       "</style>\n",
       "<table border=\"1\" class=\"dataframe\">\n",
       "  <thead>\n",
       "    <tr style=\"text-align: right;\">\n",
       "      <th></th>\n",
       "      <th>Time</th>\n",
       "      <th>V1</th>\n",
       "      <th>V2</th>\n",
       "      <th>V3</th>\n",
       "      <th>V4</th>\n",
       "      <th>V5</th>\n",
       "      <th>V6</th>\n",
       "      <th>V7</th>\n",
       "      <th>V8</th>\n",
       "      <th>V9</th>\n",
       "      <th>...</th>\n",
       "      <th>V21</th>\n",
       "      <th>V22</th>\n",
       "      <th>V23</th>\n",
       "      <th>V24</th>\n",
       "      <th>V25</th>\n",
       "      <th>V26</th>\n",
       "      <th>V27</th>\n",
       "      <th>V28</th>\n",
       "      <th>Amount</th>\n",
       "      <th>Class</th>\n",
       "    </tr>\n",
       "  </thead>\n",
       "  <tbody>\n",
       "    <tr>\n",
       "      <th>0</th>\n",
       "      <td>0.0</td>\n",
       "      <td>-1.359807</td>\n",
       "      <td>-0.072781</td>\n",
       "      <td>2.536347</td>\n",
       "      <td>1.378155</td>\n",
       "      <td>-0.338321</td>\n",
       "      <td>0.462388</td>\n",
       "      <td>0.239599</td>\n",
       "      <td>0.098698</td>\n",
       "      <td>0.363787</td>\n",
       "      <td>...</td>\n",
       "      <td>-0.018307</td>\n",
       "      <td>0.277838</td>\n",
       "      <td>-0.110474</td>\n",
       "      <td>0.066928</td>\n",
       "      <td>0.128539</td>\n",
       "      <td>-0.189115</td>\n",
       "      <td>0.133558</td>\n",
       "      <td>-0.021053</td>\n",
       "      <td>149.62</td>\n",
       "      <td>0</td>\n",
       "    </tr>\n",
       "    <tr>\n",
       "      <th>1</th>\n",
       "      <td>0.0</td>\n",
       "      <td>1.191857</td>\n",
       "      <td>0.266151</td>\n",
       "      <td>0.166480</td>\n",
       "      <td>0.448154</td>\n",
       "      <td>0.060018</td>\n",
       "      <td>-0.082361</td>\n",
       "      <td>-0.078803</td>\n",
       "      <td>0.085102</td>\n",
       "      <td>-0.255425</td>\n",
       "      <td>...</td>\n",
       "      <td>-0.225775</td>\n",
       "      <td>-0.638672</td>\n",
       "      <td>0.101288</td>\n",
       "      <td>-0.339846</td>\n",
       "      <td>0.167170</td>\n",
       "      <td>0.125895</td>\n",
       "      <td>-0.008983</td>\n",
       "      <td>0.014724</td>\n",
       "      <td>2.69</td>\n",
       "      <td>0</td>\n",
       "    </tr>\n",
       "    <tr>\n",
       "      <th>2</th>\n",
       "      <td>1.0</td>\n",
       "      <td>-1.358354</td>\n",
       "      <td>-1.340163</td>\n",
       "      <td>1.773209</td>\n",
       "      <td>0.379780</td>\n",
       "      <td>-0.503198</td>\n",
       "      <td>1.800499</td>\n",
       "      <td>0.791461</td>\n",
       "      <td>0.247676</td>\n",
       "      <td>-1.514654</td>\n",
       "      <td>...</td>\n",
       "      <td>0.247998</td>\n",
       "      <td>0.771679</td>\n",
       "      <td>0.909412</td>\n",
       "      <td>-0.689281</td>\n",
       "      <td>-0.327642</td>\n",
       "      <td>-0.139097</td>\n",
       "      <td>-0.055353</td>\n",
       "      <td>-0.059752</td>\n",
       "      <td>378.66</td>\n",
       "      <td>0</td>\n",
       "    </tr>\n",
       "    <tr>\n",
       "      <th>3</th>\n",
       "      <td>1.0</td>\n",
       "      <td>-0.966272</td>\n",
       "      <td>-0.185226</td>\n",
       "      <td>1.792993</td>\n",
       "      <td>-0.863291</td>\n",
       "      <td>-0.010309</td>\n",
       "      <td>1.247203</td>\n",
       "      <td>0.237609</td>\n",
       "      <td>0.377436</td>\n",
       "      <td>-1.387024</td>\n",
       "      <td>...</td>\n",
       "      <td>-0.108300</td>\n",
       "      <td>0.005274</td>\n",
       "      <td>-0.190321</td>\n",
       "      <td>-1.175575</td>\n",
       "      <td>0.647376</td>\n",
       "      <td>-0.221929</td>\n",
       "      <td>0.062723</td>\n",
       "      <td>0.061458</td>\n",
       "      <td>123.50</td>\n",
       "      <td>0</td>\n",
       "    </tr>\n",
       "    <tr>\n",
       "      <th>4</th>\n",
       "      <td>2.0</td>\n",
       "      <td>-1.158233</td>\n",
       "      <td>0.877737</td>\n",
       "      <td>1.548718</td>\n",
       "      <td>0.403034</td>\n",
       "      <td>-0.407193</td>\n",
       "      <td>0.095921</td>\n",
       "      <td>0.592941</td>\n",
       "      <td>-0.270533</td>\n",
       "      <td>0.817739</td>\n",
       "      <td>...</td>\n",
       "      <td>-0.009431</td>\n",
       "      <td>0.798278</td>\n",
       "      <td>-0.137458</td>\n",
       "      <td>0.141267</td>\n",
       "      <td>-0.206010</td>\n",
       "      <td>0.502292</td>\n",
       "      <td>0.219422</td>\n",
       "      <td>0.215153</td>\n",
       "      <td>69.99</td>\n",
       "      <td>0</td>\n",
       "    </tr>\n",
       "  </tbody>\n",
       "</table>\n",
       "<p>5 rows × 31 columns</p>\n",
       "</div>"
      ],
      "text/plain": [
       "   Time        V1        V2        V3        V4        V5        V6        V7  \\\n",
       "0   0.0 -1.359807 -0.072781  2.536347  1.378155 -0.338321  0.462388  0.239599   \n",
       "1   0.0  1.191857  0.266151  0.166480  0.448154  0.060018 -0.082361 -0.078803   \n",
       "2   1.0 -1.358354 -1.340163  1.773209  0.379780 -0.503198  1.800499  0.791461   \n",
       "3   1.0 -0.966272 -0.185226  1.792993 -0.863291 -0.010309  1.247203  0.237609   \n",
       "4   2.0 -1.158233  0.877737  1.548718  0.403034 -0.407193  0.095921  0.592941   \n",
       "\n",
       "         V8        V9  ...       V21       V22       V23       V24       V25  \\\n",
       "0  0.098698  0.363787  ... -0.018307  0.277838 -0.110474  0.066928  0.128539   \n",
       "1  0.085102 -0.255425  ... -0.225775 -0.638672  0.101288 -0.339846  0.167170   \n",
       "2  0.247676 -1.514654  ...  0.247998  0.771679  0.909412 -0.689281 -0.327642   \n",
       "3  0.377436 -1.387024  ... -0.108300  0.005274 -0.190321 -1.175575  0.647376   \n",
       "4 -0.270533  0.817739  ... -0.009431  0.798278 -0.137458  0.141267 -0.206010   \n",
       "\n",
       "        V26       V27       V28  Amount  Class  \n",
       "0 -0.189115  0.133558 -0.021053  149.62      0  \n",
       "1  0.125895 -0.008983  0.014724    2.69      0  \n",
       "2 -0.139097 -0.055353 -0.059752  378.66      0  \n",
       "3 -0.221929  0.062723  0.061458  123.50      0  \n",
       "4  0.502292  0.219422  0.215153   69.99      0  \n",
       "\n",
       "[5 rows x 31 columns]"
      ]
     },
     "metadata": {},
     "output_type": "display_data"
    },
    {
     "data": {
      "text/html": [
       "<div>\n",
       "<style scoped>\n",
       "    .dataframe tbody tr th:only-of-type {\n",
       "        vertical-align: middle;\n",
       "    }\n",
       "\n",
       "    .dataframe tbody tr th {\n",
       "        vertical-align: top;\n",
       "    }\n",
       "\n",
       "    .dataframe thead th {\n",
       "        text-align: right;\n",
       "    }\n",
       "</style>\n",
       "<table border=\"1\" class=\"dataframe\">\n",
       "  <thead>\n",
       "    <tr style=\"text-align: right;\">\n",
       "      <th></th>\n",
       "      <th>count</th>\n",
       "      <th>mean</th>\n",
       "      <th>std</th>\n",
       "      <th>min</th>\n",
       "      <th>25%</th>\n",
       "      <th>50%</th>\n",
       "      <th>75%</th>\n",
       "      <th>max</th>\n",
       "    </tr>\n",
       "  </thead>\n",
       "  <tbody>\n",
       "    <tr>\n",
       "      <th>Time</th>\n",
       "      <td>284807.0</td>\n",
       "      <td>9.481386e+04</td>\n",
       "      <td>47488.145955</td>\n",
       "      <td>0.000000</td>\n",
       "      <td>54201.500000</td>\n",
       "      <td>84692.000000</td>\n",
       "      <td>139320.500000</td>\n",
       "      <td>172792.000000</td>\n",
       "    </tr>\n",
       "    <tr>\n",
       "      <th>V1</th>\n",
       "      <td>284807.0</td>\n",
       "      <td>1.168375e-15</td>\n",
       "      <td>1.958696</td>\n",
       "      <td>-56.407510</td>\n",
       "      <td>-0.920373</td>\n",
       "      <td>0.018109</td>\n",
       "      <td>1.315642</td>\n",
       "      <td>2.454930</td>\n",
       "    </tr>\n",
       "    <tr>\n",
       "      <th>V2</th>\n",
       "      <td>284807.0</td>\n",
       "      <td>3.416908e-16</td>\n",
       "      <td>1.651309</td>\n",
       "      <td>-72.715728</td>\n",
       "      <td>-0.598550</td>\n",
       "      <td>0.065486</td>\n",
       "      <td>0.803724</td>\n",
       "      <td>22.057729</td>\n",
       "    </tr>\n",
       "    <tr>\n",
       "      <th>V3</th>\n",
       "      <td>284807.0</td>\n",
       "      <td>-1.379537e-15</td>\n",
       "      <td>1.516255</td>\n",
       "      <td>-48.325589</td>\n",
       "      <td>-0.890365</td>\n",
       "      <td>0.179846</td>\n",
       "      <td>1.027196</td>\n",
       "      <td>9.382558</td>\n",
       "    </tr>\n",
       "    <tr>\n",
       "      <th>V4</th>\n",
       "      <td>284807.0</td>\n",
       "      <td>2.074095e-15</td>\n",
       "      <td>1.415869</td>\n",
       "      <td>-5.683171</td>\n",
       "      <td>-0.848640</td>\n",
       "      <td>-0.019847</td>\n",
       "      <td>0.743341</td>\n",
       "      <td>16.875344</td>\n",
       "    </tr>\n",
       "    <tr>\n",
       "      <th>V5</th>\n",
       "      <td>284807.0</td>\n",
       "      <td>9.604066e-16</td>\n",
       "      <td>1.380247</td>\n",
       "      <td>-113.743307</td>\n",
       "      <td>-0.691597</td>\n",
       "      <td>-0.054336</td>\n",
       "      <td>0.611926</td>\n",
       "      <td>34.801666</td>\n",
       "    </tr>\n",
       "    <tr>\n",
       "      <th>V6</th>\n",
       "      <td>284807.0</td>\n",
       "      <td>1.487313e-15</td>\n",
       "      <td>1.332271</td>\n",
       "      <td>-26.160506</td>\n",
       "      <td>-0.768296</td>\n",
       "      <td>-0.274187</td>\n",
       "      <td>0.398565</td>\n",
       "      <td>73.301626</td>\n",
       "    </tr>\n",
       "    <tr>\n",
       "      <th>V7</th>\n",
       "      <td>284807.0</td>\n",
       "      <td>-5.556467e-16</td>\n",
       "      <td>1.237094</td>\n",
       "      <td>-43.557242</td>\n",
       "      <td>-0.554076</td>\n",
       "      <td>0.040103</td>\n",
       "      <td>0.570436</td>\n",
       "      <td>120.589494</td>\n",
       "    </tr>\n",
       "    <tr>\n",
       "      <th>V8</th>\n",
       "      <td>284807.0</td>\n",
       "      <td>1.213481e-16</td>\n",
       "      <td>1.194353</td>\n",
       "      <td>-73.216718</td>\n",
       "      <td>-0.208630</td>\n",
       "      <td>0.022358</td>\n",
       "      <td>0.327346</td>\n",
       "      <td>20.007208</td>\n",
       "    </tr>\n",
       "    <tr>\n",
       "      <th>V9</th>\n",
       "      <td>284807.0</td>\n",
       "      <td>-2.406331e-15</td>\n",
       "      <td>1.098632</td>\n",
       "      <td>-13.434066</td>\n",
       "      <td>-0.643098</td>\n",
       "      <td>-0.051429</td>\n",
       "      <td>0.597139</td>\n",
       "      <td>15.594995</td>\n",
       "    </tr>\n",
       "    <tr>\n",
       "      <th>V10</th>\n",
       "      <td>284807.0</td>\n",
       "      <td>2.239053e-15</td>\n",
       "      <td>1.088850</td>\n",
       "      <td>-24.588262</td>\n",
       "      <td>-0.535426</td>\n",
       "      <td>-0.092917</td>\n",
       "      <td>0.453923</td>\n",
       "      <td>23.745136</td>\n",
       "    </tr>\n",
       "    <tr>\n",
       "      <th>V11</th>\n",
       "      <td>284807.0</td>\n",
       "      <td>1.673327e-15</td>\n",
       "      <td>1.020713</td>\n",
       "      <td>-4.797473</td>\n",
       "      <td>-0.762494</td>\n",
       "      <td>-0.032757</td>\n",
       "      <td>0.739593</td>\n",
       "      <td>12.018913</td>\n",
       "    </tr>\n",
       "    <tr>\n",
       "      <th>V12</th>\n",
       "      <td>284807.0</td>\n",
       "      <td>-1.247012e-15</td>\n",
       "      <td>0.999201</td>\n",
       "      <td>-18.683715</td>\n",
       "      <td>-0.405571</td>\n",
       "      <td>0.140033</td>\n",
       "      <td>0.618238</td>\n",
       "      <td>7.848392</td>\n",
       "    </tr>\n",
       "    <tr>\n",
       "      <th>V13</th>\n",
       "      <td>284807.0</td>\n",
       "      <td>8.190001e-16</td>\n",
       "      <td>0.995274</td>\n",
       "      <td>-5.791881</td>\n",
       "      <td>-0.648539</td>\n",
       "      <td>-0.013568</td>\n",
       "      <td>0.662505</td>\n",
       "      <td>7.126883</td>\n",
       "    </tr>\n",
       "    <tr>\n",
       "      <th>V14</th>\n",
       "      <td>284807.0</td>\n",
       "      <td>1.207294e-15</td>\n",
       "      <td>0.958596</td>\n",
       "      <td>-19.214325</td>\n",
       "      <td>-0.425574</td>\n",
       "      <td>0.050601</td>\n",
       "      <td>0.493150</td>\n",
       "      <td>10.526766</td>\n",
       "    </tr>\n",
       "    <tr>\n",
       "      <th>V15</th>\n",
       "      <td>284807.0</td>\n",
       "      <td>4.887456e-15</td>\n",
       "      <td>0.915316</td>\n",
       "      <td>-4.498945</td>\n",
       "      <td>-0.582884</td>\n",
       "      <td>0.048072</td>\n",
       "      <td>0.648821</td>\n",
       "      <td>8.877742</td>\n",
       "    </tr>\n",
       "    <tr>\n",
       "      <th>V16</th>\n",
       "      <td>284807.0</td>\n",
       "      <td>1.437716e-15</td>\n",
       "      <td>0.876253</td>\n",
       "      <td>-14.129855</td>\n",
       "      <td>-0.468037</td>\n",
       "      <td>0.066413</td>\n",
       "      <td>0.523296</td>\n",
       "      <td>17.315112</td>\n",
       "    </tr>\n",
       "    <tr>\n",
       "      <th>V17</th>\n",
       "      <td>284807.0</td>\n",
       "      <td>-3.772171e-16</td>\n",
       "      <td>0.849337</td>\n",
       "      <td>-25.162799</td>\n",
       "      <td>-0.483748</td>\n",
       "      <td>-0.065676</td>\n",
       "      <td>0.399675</td>\n",
       "      <td>9.253526</td>\n",
       "    </tr>\n",
       "    <tr>\n",
       "      <th>V18</th>\n",
       "      <td>284807.0</td>\n",
       "      <td>9.564149e-16</td>\n",
       "      <td>0.838176</td>\n",
       "      <td>-9.498746</td>\n",
       "      <td>-0.498850</td>\n",
       "      <td>-0.003636</td>\n",
       "      <td>0.500807</td>\n",
       "      <td>5.041069</td>\n",
       "    </tr>\n",
       "    <tr>\n",
       "      <th>V19</th>\n",
       "      <td>284807.0</td>\n",
       "      <td>1.039917e-15</td>\n",
       "      <td>0.814041</td>\n",
       "      <td>-7.213527</td>\n",
       "      <td>-0.456299</td>\n",
       "      <td>0.003735</td>\n",
       "      <td>0.458949</td>\n",
       "      <td>5.591971</td>\n",
       "    </tr>\n",
       "    <tr>\n",
       "      <th>V20</th>\n",
       "      <td>284807.0</td>\n",
       "      <td>6.406204e-16</td>\n",
       "      <td>0.770925</td>\n",
       "      <td>-54.497720</td>\n",
       "      <td>-0.211721</td>\n",
       "      <td>-0.062481</td>\n",
       "      <td>0.133041</td>\n",
       "      <td>39.420904</td>\n",
       "    </tr>\n",
       "    <tr>\n",
       "      <th>V21</th>\n",
       "      <td>284807.0</td>\n",
       "      <td>1.654067e-16</td>\n",
       "      <td>0.734524</td>\n",
       "      <td>-34.830382</td>\n",
       "      <td>-0.228395</td>\n",
       "      <td>-0.029450</td>\n",
       "      <td>0.186377</td>\n",
       "      <td>27.202839</td>\n",
       "    </tr>\n",
       "    <tr>\n",
       "      <th>V22</th>\n",
       "      <td>284807.0</td>\n",
       "      <td>-3.568593e-16</td>\n",
       "      <td>0.725702</td>\n",
       "      <td>-10.933144</td>\n",
       "      <td>-0.542350</td>\n",
       "      <td>0.006782</td>\n",
       "      <td>0.528554</td>\n",
       "      <td>10.503090</td>\n",
       "    </tr>\n",
       "    <tr>\n",
       "      <th>V23</th>\n",
       "      <td>284807.0</td>\n",
       "      <td>2.578648e-16</td>\n",
       "      <td>0.624460</td>\n",
       "      <td>-44.807735</td>\n",
       "      <td>-0.161846</td>\n",
       "      <td>-0.011193</td>\n",
       "      <td>0.147642</td>\n",
       "      <td>22.528412</td>\n",
       "    </tr>\n",
       "    <tr>\n",
       "      <th>V24</th>\n",
       "      <td>284807.0</td>\n",
       "      <td>4.473266e-15</td>\n",
       "      <td>0.605647</td>\n",
       "      <td>-2.836627</td>\n",
       "      <td>-0.354586</td>\n",
       "      <td>0.040976</td>\n",
       "      <td>0.439527</td>\n",
       "      <td>4.584549</td>\n",
       "    </tr>\n",
       "    <tr>\n",
       "      <th>V25</th>\n",
       "      <td>284807.0</td>\n",
       "      <td>5.340915e-16</td>\n",
       "      <td>0.521278</td>\n",
       "      <td>-10.295397</td>\n",
       "      <td>-0.317145</td>\n",
       "      <td>0.016594</td>\n",
       "      <td>0.350716</td>\n",
       "      <td>7.519589</td>\n",
       "    </tr>\n",
       "    <tr>\n",
       "      <th>V26</th>\n",
       "      <td>284807.0</td>\n",
       "      <td>1.683437e-15</td>\n",
       "      <td>0.482227</td>\n",
       "      <td>-2.604551</td>\n",
       "      <td>-0.326984</td>\n",
       "      <td>-0.052139</td>\n",
       "      <td>0.240952</td>\n",
       "      <td>3.517346</td>\n",
       "    </tr>\n",
       "    <tr>\n",
       "      <th>V27</th>\n",
       "      <td>284807.0</td>\n",
       "      <td>-3.660091e-16</td>\n",
       "      <td>0.403632</td>\n",
       "      <td>-22.565679</td>\n",
       "      <td>-0.070840</td>\n",
       "      <td>0.001342</td>\n",
       "      <td>0.091045</td>\n",
       "      <td>31.612198</td>\n",
       "    </tr>\n",
       "    <tr>\n",
       "      <th>V28</th>\n",
       "      <td>284807.0</td>\n",
       "      <td>-1.227390e-16</td>\n",
       "      <td>0.330083</td>\n",
       "      <td>-15.430084</td>\n",
       "      <td>-0.052960</td>\n",
       "      <td>0.011244</td>\n",
       "      <td>0.078280</td>\n",
       "      <td>33.847808</td>\n",
       "    </tr>\n",
       "    <tr>\n",
       "      <th>Amount</th>\n",
       "      <td>284807.0</td>\n",
       "      <td>8.834962e+01</td>\n",
       "      <td>250.120109</td>\n",
       "      <td>0.000000</td>\n",
       "      <td>5.600000</td>\n",
       "      <td>22.000000</td>\n",
       "      <td>77.165000</td>\n",
       "      <td>25691.160000</td>\n",
       "    </tr>\n",
       "    <tr>\n",
       "      <th>Class</th>\n",
       "      <td>284807.0</td>\n",
       "      <td>1.727486e-03</td>\n",
       "      <td>0.041527</td>\n",
       "      <td>0.000000</td>\n",
       "      <td>0.000000</td>\n",
       "      <td>0.000000</td>\n",
       "      <td>0.000000</td>\n",
       "      <td>1.000000</td>\n",
       "    </tr>\n",
       "  </tbody>\n",
       "</table>\n",
       "</div>"
      ],
      "text/plain": [
       "           count          mean           std         min           25%  \\\n",
       "Time    284807.0  9.481386e+04  47488.145955    0.000000  54201.500000   \n",
       "V1      284807.0  1.168375e-15      1.958696  -56.407510     -0.920373   \n",
       "V2      284807.0  3.416908e-16      1.651309  -72.715728     -0.598550   \n",
       "V3      284807.0 -1.379537e-15      1.516255  -48.325589     -0.890365   \n",
       "V4      284807.0  2.074095e-15      1.415869   -5.683171     -0.848640   \n",
       "V5      284807.0  9.604066e-16      1.380247 -113.743307     -0.691597   \n",
       "V6      284807.0  1.487313e-15      1.332271  -26.160506     -0.768296   \n",
       "V7      284807.0 -5.556467e-16      1.237094  -43.557242     -0.554076   \n",
       "V8      284807.0  1.213481e-16      1.194353  -73.216718     -0.208630   \n",
       "V9      284807.0 -2.406331e-15      1.098632  -13.434066     -0.643098   \n",
       "V10     284807.0  2.239053e-15      1.088850  -24.588262     -0.535426   \n",
       "V11     284807.0  1.673327e-15      1.020713   -4.797473     -0.762494   \n",
       "V12     284807.0 -1.247012e-15      0.999201  -18.683715     -0.405571   \n",
       "V13     284807.0  8.190001e-16      0.995274   -5.791881     -0.648539   \n",
       "V14     284807.0  1.207294e-15      0.958596  -19.214325     -0.425574   \n",
       "V15     284807.0  4.887456e-15      0.915316   -4.498945     -0.582884   \n",
       "V16     284807.0  1.437716e-15      0.876253  -14.129855     -0.468037   \n",
       "V17     284807.0 -3.772171e-16      0.849337  -25.162799     -0.483748   \n",
       "V18     284807.0  9.564149e-16      0.838176   -9.498746     -0.498850   \n",
       "V19     284807.0  1.039917e-15      0.814041   -7.213527     -0.456299   \n",
       "V20     284807.0  6.406204e-16      0.770925  -54.497720     -0.211721   \n",
       "V21     284807.0  1.654067e-16      0.734524  -34.830382     -0.228395   \n",
       "V22     284807.0 -3.568593e-16      0.725702  -10.933144     -0.542350   \n",
       "V23     284807.0  2.578648e-16      0.624460  -44.807735     -0.161846   \n",
       "V24     284807.0  4.473266e-15      0.605647   -2.836627     -0.354586   \n",
       "V25     284807.0  5.340915e-16      0.521278  -10.295397     -0.317145   \n",
       "V26     284807.0  1.683437e-15      0.482227   -2.604551     -0.326984   \n",
       "V27     284807.0 -3.660091e-16      0.403632  -22.565679     -0.070840   \n",
       "V28     284807.0 -1.227390e-16      0.330083  -15.430084     -0.052960   \n",
       "Amount  284807.0  8.834962e+01    250.120109    0.000000      5.600000   \n",
       "Class   284807.0  1.727486e-03      0.041527    0.000000      0.000000   \n",
       "\n",
       "                 50%            75%            max  \n",
       "Time    84692.000000  139320.500000  172792.000000  \n",
       "V1          0.018109       1.315642       2.454930  \n",
       "V2          0.065486       0.803724      22.057729  \n",
       "V3          0.179846       1.027196       9.382558  \n",
       "V4         -0.019847       0.743341      16.875344  \n",
       "V5         -0.054336       0.611926      34.801666  \n",
       "V6         -0.274187       0.398565      73.301626  \n",
       "V7          0.040103       0.570436     120.589494  \n",
       "V8          0.022358       0.327346      20.007208  \n",
       "V9         -0.051429       0.597139      15.594995  \n",
       "V10        -0.092917       0.453923      23.745136  \n",
       "V11        -0.032757       0.739593      12.018913  \n",
       "V12         0.140033       0.618238       7.848392  \n",
       "V13        -0.013568       0.662505       7.126883  \n",
       "V14         0.050601       0.493150      10.526766  \n",
       "V15         0.048072       0.648821       8.877742  \n",
       "V16         0.066413       0.523296      17.315112  \n",
       "V17        -0.065676       0.399675       9.253526  \n",
       "V18        -0.003636       0.500807       5.041069  \n",
       "V19         0.003735       0.458949       5.591971  \n",
       "V20        -0.062481       0.133041      39.420904  \n",
       "V21        -0.029450       0.186377      27.202839  \n",
       "V22         0.006782       0.528554      10.503090  \n",
       "V23        -0.011193       0.147642      22.528412  \n",
       "V24         0.040976       0.439527       4.584549  \n",
       "V25         0.016594       0.350716       7.519589  \n",
       "V26        -0.052139       0.240952       3.517346  \n",
       "V27         0.001342       0.091045      31.612198  \n",
       "V28         0.011244       0.078280      33.847808  \n",
       "Amount     22.000000      77.165000   25691.160000  \n",
       "Class       0.000000       0.000000       1.000000  "
      ]
     },
     "metadata": {},
     "output_type": "display_data"
    },
    {
     "name": "stdout",
     "output_type": "stream",
     "text": [
      "<class 'pandas.core.frame.DataFrame'>\n",
      "RangeIndex: 284807 entries, 0 to 284806\n",
      "Data columns (total 31 columns):\n",
      " #   Column  Non-Null Count   Dtype  \n",
      "---  ------  --------------   -----  \n",
      " 0   Time    284807 non-null  float64\n",
      " 1   V1      284807 non-null  float64\n",
      " 2   V2      284807 non-null  float64\n",
      " 3   V3      284807 non-null  float64\n",
      " 4   V4      284807 non-null  float64\n",
      " 5   V5      284807 non-null  float64\n",
      " 6   V6      284807 non-null  float64\n",
      " 7   V7      284807 non-null  float64\n",
      " 8   V8      284807 non-null  float64\n",
      " 9   V9      284807 non-null  float64\n",
      " 10  V10     284807 non-null  float64\n",
      " 11  V11     284807 non-null  float64\n",
      " 12  V12     284807 non-null  float64\n",
      " 13  V13     284807 non-null  float64\n",
      " 14  V14     284807 non-null  float64\n",
      " 15  V15     284807 non-null  float64\n",
      " 16  V16     284807 non-null  float64\n",
      " 17  V17     284807 non-null  float64\n",
      " 18  V18     284807 non-null  float64\n",
      " 19  V19     284807 non-null  float64\n",
      " 20  V20     284807 non-null  float64\n",
      " 21  V21     284807 non-null  float64\n",
      " 22  V22     284807 non-null  float64\n",
      " 23  V23     284807 non-null  float64\n",
      " 24  V24     284807 non-null  float64\n",
      " 25  V25     284807 non-null  float64\n",
      " 26  V26     284807 non-null  float64\n",
      " 27  V27     284807 non-null  float64\n",
      " 28  V28     284807 non-null  float64\n",
      " 29  Amount  284807 non-null  float64\n",
      " 30  Class   284807 non-null  int64  \n",
      "dtypes: float64(30), int64(1)\n",
      "memory usage: 67.4 MB\n"
     ]
    }
   ],
   "source": [
    "# quick inspection of the dataframe\n",
    "# casting datatypes to save memory\n",
    "display(df_full.head())\n",
    "display(df_full.describe().T)\n",
    "\n",
    "df_full.info()\n",
    "\n",
    "\n",
    "# observations\n",
    "# Time is an integer\n",
    "# class is 1,0 with the majority being 0 <- so no fraud\n",
    "# there are no NA values in the dataset\n",
    "# mean of all V cols is (almost) zero\n",
    "# std of all  V cols is decreasing with the number of V_<number>\n",
    "    # indication that V1 is the first component of the pca and V28 is the last, and therfore explains the least amount of variance"
   ]
  },
  {
   "cell_type": "code",
   "execution_count": 5,
   "id": "bc3bd03c",
   "metadata": {
    "execution": {
     "iopub.execute_input": "2023-11-10T10:19:12.839906Z",
     "iopub.status.busy": "2023-11-10T10:19:12.839240Z",
     "iopub.status.idle": "2023-11-10T10:19:12.915363Z",
     "shell.execute_reply": "2023-11-10T10:19:12.913477Z"
    },
    "papermill": {
     "duration": 0.093221,
     "end_time": "2023-11-10T10:19:12.918955",
     "exception": false,
     "start_time": "2023-11-10T10:19:12.825734",
     "status": "completed"
    },
    "tags": []
   },
   "outputs": [
    {
     "name": "stdout",
     "output_type": "stream",
     "text": [
      "<class 'pandas.core.frame.DataFrame'>\n",
      "RangeIndex: 284807 entries, 0 to 284806\n",
      "Data columns (total 32 columns):\n",
      " #   Column        Non-Null Count   Dtype   \n",
      "---  ------        --------------   -----   \n",
      " 0   Time          284807 non-null  int64   \n",
      " 1   V1            284807 non-null  float64 \n",
      " 2   V2            284807 non-null  float64 \n",
      " 3   V3            284807 non-null  float64 \n",
      " 4   V4            284807 non-null  float64 \n",
      " 5   V5            284807 non-null  float64 \n",
      " 6   V6            284807 non-null  float64 \n",
      " 7   V7            284807 non-null  float64 \n",
      " 8   V8            284807 non-null  float64 \n",
      " 9   V9            284807 non-null  float64 \n",
      " 10  V10           284807 non-null  float64 \n",
      " 11  V11           284807 non-null  float64 \n",
      " 12  V12           284807 non-null  float64 \n",
      " 13  V13           284807 non-null  float64 \n",
      " 14  V14           284807 non-null  float64 \n",
      " 15  V15           284807 non-null  float64 \n",
      " 16  V16           284807 non-null  float64 \n",
      " 17  V17           284807 non-null  float64 \n",
      " 18  V18           284807 non-null  float64 \n",
      " 19  V19           284807 non-null  float64 \n",
      " 20  V20           284807 non-null  float64 \n",
      " 21  V21           284807 non-null  float64 \n",
      " 22  V22           284807 non-null  float64 \n",
      " 23  V23           284807 non-null  float64 \n",
      " 24  V24           284807 non-null  float64 \n",
      " 25  V25           284807 non-null  float64 \n",
      " 26  V26           284807 non-null  float64 \n",
      " 27  V27           284807 non-null  float64 \n",
      " 28  V28           284807 non-null  float64 \n",
      " 29  Amount        284807 non-null  float64 \n",
      " 30  Class         284807 non-null  category\n",
      " 31  Amount_log1p  284807 non-null  float64 \n",
      "dtypes: category(1), float64(30), int64(1)\n",
      "memory usage: 67.6 MB\n"
     ]
    }
   ],
   "source": [
    "# casting datatypes to reduce the memory footprint\n",
    "df_in = df_full.assign(\n",
    "    Time=df_full[\"Time\"].astype(\"int\"), \n",
    "    Class=df_full[\"Class\"].astype(\"category\"),\n",
    "    # added a log1 transform of the amount, to turn it more normal\n",
    "    Amount_log1p = np.log1p(df_full[\"Amount\"])\n",
    ")\n",
    "df_in.info()"
   ]
  },
  {
   "cell_type": "markdown",
   "id": "875aa9dc",
   "metadata": {
    "papermill": {
     "duration": 0.010705,
     "end_time": "2023-11-10T10:19:12.941097",
     "exception": false,
     "start_time": "2023-11-10T10:19:12.930392",
     "status": "completed"
    },
    "tags": []
   },
   "source": [
    "## EDA\n",
    "\n",
    "let's start with looking at the Class variable, usally fraud is heavy skewed. \n",
    "namely the fraud class is underrepresented"
   ]
  },
  {
   "cell_type": "code",
   "execution_count": 6,
   "id": "d6a19a3c",
   "metadata": {
    "execution": {
     "iopub.execute_input": "2023-11-10T10:19:12.965939Z",
     "iopub.status.busy": "2023-11-10T10:19:12.965479Z",
     "iopub.status.idle": "2023-11-10T10:19:13.587927Z",
     "shell.execute_reply": "2023-11-10T10:19:13.586485Z"
    },
    "papermill": {
     "duration": 0.638196,
     "end_time": "2023-11-10T10:19:13.590949",
     "exception": false,
     "start_time": "2023-11-10T10:19:12.952753",
     "status": "completed"
    },
    "tags": []
   },
   "outputs": [
    {
     "data": {
      "text/plain": [
       "Class\n",
       "0        0.998273\n",
       "1        0.001727\n",
       "Name: proportion, dtype: float64"
      ]
     },
     "execution_count": 6,
     "metadata": {},
     "output_type": "execute_result"
    },
    {
     "data": {
      "image/png": "[encoded data removed]",
      "text/plain": [
       "<Figure size 640x480 with 1 Axes>"
      ]
     },
     "metadata": {},
     "output_type": "display_data"
    }
   ],
   "source": [
    "sns.histplot(df_in, x='Class', stat=\"percent\", discrete=True,shrink=.8);\n",
    "df_in[['Class']].value_counts(normalize=True)\n",
    "\n",
    "# as excpected the amount of fraud cases is very low compared to the on fraud cases\n",
    "# the base rate of non-fraud cases is 0.998273"
   ]
  },
  {
   "cell_type": "code",
   "execution_count": 7,
   "id": "6a37cbe5",
   "metadata": {
    "execution": {
     "iopub.execute_input": "2023-11-10T10:19:13.620465Z",
     "iopub.status.busy": "2023-11-10T10:19:13.619964Z",
     "iopub.status.idle": "2023-11-10T10:19:13.677727Z",
     "shell.execute_reply": "2023-11-10T10:19:13.676286Z"
    },
    "papermill": {
     "duration": 0.079247,
     "end_time": "2023-11-10T10:19:13.682532",
     "exception": false,
     "start_time": "2023-11-10T10:19:13.603285",
     "status": "completed"
    },
    "tags": []
   },
   "outputs": [
    {
     "data": {
      "text/plain": [
       "Amount\n",
       "1.00      0.048061\n",
       "1.98      0.021221\n",
       "0.89      0.017106\n",
       "9.99      0.016667\n",
       "15.00     0.011517\n",
       "0.76      0.010526\n",
       "10.00     0.010358\n",
       "1.29      0.010154\n",
       "1.79      0.009210\n",
       "0.99      0.008090\n",
       "20.00     0.007029\n",
       "0.00      0.006408\n",
       "8.99      0.006359\n",
       "11.50     0.006113\n",
       "4.49      0.005544\n",
       "5.00      0.005509\n",
       "0.77      0.005067\n",
       "2.69      0.005042\n",
       "25.00     0.004873\n",
       "50.00     0.004708\n",
       "Name: proportion, dtype: float64"
      ]
     },
     "execution_count": 7,
     "metadata": {},
     "output_type": "execute_result"
    }
   ],
   "source": [
    "# looking at the top 20 occuring values, we can see that 0.0 is also in there\n",
    "# a weird transaction, maybe it is some form of auth \n",
    "df_in[['Amount']].value_counts(normalize=True,sort=True).head(20)\n",
    "\n",
    "\n",
    "# lets see if the 0 amount transactions are a fraud case\n",
    "# a lot of single digit transactions and round numbers 15/25/50 "
   ]
  },
  {
   "cell_type": "code",
   "execution_count": 8,
   "id": "0749f16c",
   "metadata": {
    "execution": {
     "iopub.execute_input": "2023-11-10T10:19:13.712964Z",
     "iopub.status.busy": "2023-11-10T10:19:13.712525Z",
     "iopub.status.idle": "2023-11-10T10:19:13.728937Z",
     "shell.execute_reply": "2023-11-10T10:19:13.727623Z"
    },
    "papermill": {
     "duration": 0.034221,
     "end_time": "2023-11-10T10:19:13.732186",
     "exception": false,
     "start_time": "2023-11-10T10:19:13.697965",
     "status": "completed"
    },
    "tags": []
   },
   "outputs": [
    {
     "data": {
      "text/plain": [
       "Amount  Class\n",
       "0.0     0        0.985205\n",
       "        1        0.014795\n",
       "Name: proportion, dtype: float64"
      ]
     },
     "execution_count": 8,
     "metadata": {},
     "output_type": "execute_result"
    }
   ],
   "source": [
    "# pulling out all transactions with a amount of 0 and inspect the class distribution\n",
    "df_in.loc[df_in['Amount']==0.0, ['Amount','Class']].value_counts(normalize=True,sort=True)\n",
    "\n",
    "# so not all transaction with 0.0 amount are genuine \n",
    "# actually the amount of fraud is an order of magnitude higher than the overall base rate "
   ]
  },
  {
   "cell_type": "code",
   "execution_count": 9,
   "id": "c3485869",
   "metadata": {
    "execution": {
     "iopub.execute_input": "2023-11-10T10:19:13.766823Z",
     "iopub.status.busy": "2023-11-10T10:19:13.765764Z",
     "iopub.status.idle": "2023-11-10T10:20:13.016139Z",
     "shell.execute_reply": "2023-11-10T10:20:13.014041Z"
    },
    "papermill": {
     "duration": 59.26888,
     "end_time": "2023-11-10T10:20:13.019128",
     "exception": false,
     "start_time": "2023-11-10T10:19:13.750248",
     "status": "completed"
    },
    "tags": []
   },
   "outputs": [
    {
     "name": "stderr",
     "output_type": "stream",
     "text": [
      "/opt/conda/lib/python3.10/site-packages/seaborn/axisgrid.py:118: UserWarning: The figure layout has changed to tight\n",
      "  self._figure.tight_layout(*args, **kwargs)\n"
     ]
    },
    {
     "data": {
      "image/png": "[encoded data removed]",
      "text/plain": [
       "<Figure size 1058.88x500 with 2 Axes>"
      ]
     },
     "metadata": {},
     "output_type": "display_data"
    }
   ],
   "source": [
    "# interesting lets look at a distribution of the amount \n",
    "sns.displot(df_in, x='Amount',stat=\"density\",hue='Class', col='Class');\n",
    "\n",
    "# plot not showing anything usefull apart from a very skewed distribution\n",
    "# apply a log transform to the amount and try again\n",
    "# using log1p to handle the amount 0.0 case, https://numpy.org/doc/stable/reference/generated/numpy.log1p.html"
   ]
  },
  {
   "cell_type": "code",
   "execution_count": 10,
   "id": "6eff2391",
   "metadata": {
    "execution": {
     "iopub.execute_input": "2023-11-10T10:20:13.046489Z",
     "iopub.status.busy": "2023-11-10T10:20:13.046078Z",
     "iopub.status.idle": "2023-11-10T10:20:14.369131Z",
     "shell.execute_reply": "2023-11-10T10:20:14.367801Z"
    },
    "papermill": {
     "duration": 1.340268,
     "end_time": "2023-11-10T10:20:14.372358",
     "exception": false,
     "start_time": "2023-11-10T10:20:13.032090",
     "status": "completed"
    },
    "tags": []
   },
   "outputs": [
    {
     "name": "stderr",
     "output_type": "stream",
     "text": [
      "/opt/conda/lib/python3.10/site-packages/seaborn/axisgrid.py:118: UserWarning: The figure layout has changed to tight\n",
      "  self._figure.tight_layout(*args, **kwargs)\n",
      "/opt/conda/lib/python3.10/site-packages/seaborn/axisgrid.py:118: UserWarning: The figure layout has changed to tight\n",
      "  self._figure.tight_layout(*args, **kwargs)\n"
     ]
    },
    {
     "data": {
      "image/png": "[encoded data removed]",
      "text/plain": [
       "<Figure size 558.875x500 with 1 Axes>"
      ]
     },
     "metadata": {},
     "output_type": "display_data"
    },
    {
     "data": {
      "image/png": "[encoded data removed]",
      "text/plain": [
       "<Figure size 558.875x500 with 1 Axes>"
      ]
     },
     "metadata": {},
     "output_type": "display_data"
    }
   ],
   "source": [
    "# creating one function to plot both class in seperate plot\n",
    "def displot_amount(Class:int):\n",
    "    sns.displot(df_in[df_in['Class']==Class], x='Amount_log1p',stat=\"density\",kind='hist',bins=11, hue='Class');\n",
    "\n",
    "    \n",
    "    \n",
    "# sns.displot(df_in[df_in['Class']==1], x='Amount_log1p',kind='kde',rug=True, hue='Class');\n",
    "# sns.displot(df_in[df_in['Class']==0], x='Amount_log1p',kind='kde', rug=True ,hue='Class');\n",
    "displot_amount(0)\n",
    "displot_amount(1)\n",
    "\n",
    "# all observed fraud cases are below Amount_log1p of 8 \n",
    "# most fraud transaction are in the lowest bucket\n",
    "# this can be a good feature if a binner is applied \n",
    "\n",
    "# there is a spike in fraud cases for log1p ~ 4.5\n",
    "# log1p(100) ~ 4.6 so an amount of 100 is more likely to be a fraud case\n",
    "# bad actors extracting a sizeable but not large amount to draw to much attention \n",
    "# \n",
    "# gut feeling is that the fraud cases are round numbers like 10.000 or 5000 \n",
    "# and the genuine cases are ending in -.99/-.98/-.95 as most items are priced that way "
   ]
  },
  {
   "cell_type": "markdown",
   "id": "d5eaea59",
   "metadata": {
    "papermill": {
     "duration": 0.013776,
     "end_time": "2023-11-10T10:20:14.399970",
     "exception": false,
     "start_time": "2023-11-10T10:20:14.386194",
     "status": "completed"
    },
    "tags": []
   },
   "source": [
    "## random forest model (frm)\n",
    "\n",
    "let's create a simple rf model and look at the errors\n",
    "the problem is a two-class classification problem that has a sizeable class imbalance"
   ]
  },
  {
   "cell_type": "code",
   "execution_count": 11,
   "id": "84e30779",
   "metadata": {
    "execution": {
     "iopub.execute_input": "2023-11-10T10:20:14.430737Z",
     "iopub.status.busy": "2023-11-10T10:20:14.430268Z",
     "iopub.status.idle": "2023-11-10T10:20:15.182296Z",
     "shell.execute_reply": "2023-11-10T10:20:15.181274Z"
    },
    "papermill": {
     "duration": 0.770758,
     "end_time": "2023-11-10T10:20:15.184924",
     "exception": false,
     "start_time": "2023-11-10T10:20:14.414166",
     "status": "completed"
    },
    "tags": []
   },
   "outputs": [],
   "source": [
    "from sklearn.ensemble import RandomForestClassifier\n",
    "from sklearn.model_selection import train_test_split\n",
    "from sklearn.metrics import recall_score, precision_score, f1_score, accuracy_score"
   ]
  },
  {
   "cell_type": "code",
   "execution_count": 12,
   "id": "288f66a7",
   "metadata": {
    "execution": {
     "iopub.execute_input": "2023-11-10T10:20:15.215518Z",
     "iopub.status.busy": "2023-11-10T10:20:15.214813Z",
     "iopub.status.idle": "2023-11-10T10:20:15.478779Z",
     "shell.execute_reply": "2023-11-10T10:20:15.477836Z"
    },
    "papermill": {
     "duration": 0.282157,
     "end_time": "2023-11-10T10:20:15.481380",
     "exception": false,
     "start_time": "2023-11-10T10:20:15.199223",
     "status": "completed"
    },
    "tags": []
   },
   "outputs": [],
   "source": [
    "X = df_full.drop(columns='Class')\n",
    "y = df_full['Class']\n",
    "\n",
    "# preforming a stratification of the train/test split\n",
    "# this ensure that the ratio between non-fraud/fraud cases is the same between the train and test split \n",
    "X_train, X_test, y_train, y_test = train_test_split(X, y, test_size=0.20, random_state=42, stratify=y)"
   ]
  },
  {
   "cell_type": "code",
   "execution_count": 13,
   "id": "3040b17f",
   "metadata": {
    "execution": {
     "iopub.execute_input": "2023-11-10T10:20:15.511351Z",
     "iopub.status.busy": "2023-11-10T10:20:15.510689Z",
     "iopub.status.idle": "2023-11-10T10:22:02.003090Z",
     "shell.execute_reply": "2023-11-10T10:22:02.001767Z"
    },
    "papermill": {
     "duration": 106.514957,
     "end_time": "2023-11-10T10:22:02.010077",
     "exception": false,
     "start_time": "2023-11-10T10:20:15.495120",
     "status": "completed"
    },
    "tags": []
   },
   "outputs": [
    {
     "data": {
      "text/html": [
       "<style>#sk-container-id-1 {color: black;background-color: white;}#sk-container-id-1 pre{padding: 0;}#sk-container-id-1 div.sk-toggleable {background-color: white;}#sk-container-id-1 label.sk-toggleable__label {cursor: pointer;display: block;width: 100%;margin-bottom: 0;padding: 0.3em;box-sizing: border-box;text-align: center;}#sk-container-id-1 label.sk-toggleable__label-arrow:before {content: \"▸\";float: left;margin-right: 0.25em;color: #696969;}#sk-container-id-1 label.sk-toggleable__label-arrow:hover:before {color: black;}#sk-container-id-1 div.sk-estimator:hover label.sk-toggleable__label-arrow:before {color: black;}#sk-container-id-1 div.sk-toggleable__content {max-height: 0;max-width: 0;overflow: hidden;text-align: left;background-color: #f0f8ff;}#sk-container-id-1 div.sk-toggleable__content pre {margin: 0.2em;color: black;border-radius: 0.25em;background-color: #f0f8ff;}#sk-container-id-1 input.sk-toggleable__control:checked~div.sk-toggleable__content {max-height: 200px;max-width: 100%;overflow: auto;}#sk-container-id-1 input.sk-toggleable__control:checked~label.sk-toggleable__label-arrow:before {content: \"▾\";}#sk-container-id-1 div.sk-estimator input.sk-toggleable__control:checked~label.sk-toggleable__label {background-color: #d4ebff;}#sk-container-id-1 div.sk-label input.sk-toggleable__control:checked~label.sk-toggleable__label {background-color: #d4ebff;}#sk-container-id-1 input.sk-hidden--visually {border: 0;clip: rect(1px 1px 1px 1px);clip: rect(1px, 1px, 1px, 1px);height: 1px;margin: -1px;overflow: hidden;padding: 0;position: absolute;width: 1px;}#sk-container-id-1 div.sk-estimator {font-family: monospace;background-color: #f0f8ff;border: 1px dotted black;border-radius: 0.25em;box-sizing: border-box;margin-bottom: 0.5em;}#sk-container-id-1 div.sk-estimator:hover {background-color: #d4ebff;}#sk-container-id-1 div.sk-parallel-item::after {content: \"\";width: 100%;border-bottom: 1px solid gray;flex-grow: 1;}#sk-container-id-1 div.sk-label:hover label.sk-toggleable__label {background-color: #d4ebff;}#sk-container-id-1 div.sk-serial::before {content: \"\";position: absolute;border-left: 1px solid gray;box-sizing: border-box;top: 0;bottom: 0;left: 50%;z-index: 0;}#sk-container-id-1 div.sk-serial {display: flex;flex-direction: column;align-items: center;background-color: white;padding-right: 0.2em;padding-left: 0.2em;position: relative;}#sk-container-id-1 div.sk-item {position: relative;z-index: 1;}#sk-container-id-1 div.sk-parallel {display: flex;align-items: stretch;justify-content: center;background-color: white;position: relative;}#sk-container-id-1 div.sk-item::before, #sk-container-id-1 div.sk-parallel-item::before {content: \"\";position: absolute;border-left: 1px solid gray;box-sizing: border-box;top: 0;bottom: 0;left: 50%;z-index: -1;}#sk-container-id-1 div.sk-parallel-item {display: flex;flex-direction: column;z-index: 1;position: relative;background-color: white;}#sk-container-id-1 div.sk-parallel-item:first-child::after {align-self: flex-end;width: 50%;}#sk-container-id-1 div.sk-parallel-item:last-child::after {align-self: flex-start;width: 50%;}#sk-container-id-1 div.sk-parallel-item:only-child::after {width: 0;}#sk-container-id-1 div.sk-dashed-wrapped {border: 1px dashed gray;margin: 0 0.4em 0.5em 0.4em;box-sizing: border-box;padding-bottom: 0.4em;background-color: white;}#sk-container-id-1 div.sk-label label {font-family: monospace;font-weight: bold;display: inline-block;line-height: 1.2em;}#sk-container-id-1 div.sk-label-container {text-align: center;}#sk-container-id-1 div.sk-container {/* jupyter's `normalize.less` sets `[hidden] { display: none; }` but bootstrap.min.css set `[hidden] { display: none !important; }` so we also need the `!important` here to be able to override the default hidden behavior on the sphinx rendered scikit-learn.org. See: https://github.com/scikit-learn/scikit-learn/issues/21755 */display: inline-block !important;position: relative;}#sk-container-id-1 div.sk-text-repr-fallback {display: none;}</style><div id=\"sk-container-id-1\" class=\"sk-top-container\"><div class=\"sk-text-repr-fallback\"><pre>RandomForestClassifier(n_jobs=-1)</pre><b>In a Jupyter environment, please rerun this cell to show the HTML representation or trust the notebook. <br />On GitHub, the HTML representation is unable to render, please try loading this page with nbviewer.org.</b></div><div class=\"sk-container\" hidden><div class=\"sk-item\"><div class=\"sk-estimator sk-toggleable\"><input class=\"sk-toggleable__control sk-hidden--visually\" id=\"sk-estimator-id-1\" type=\"checkbox\" checked><label for=\"sk-estimator-id-1\" class=\"sk-toggleable__label sk-toggleable__label-arrow\">RandomForestClassifier</label><div class=\"sk-toggleable__content\"><pre>RandomForestClassifier(n_jobs=-1)</pre></div></div></div></div></div>"
      ],
      "text/plain": [
       "RandomForestClassifier(n_jobs=-1)"
      ]
     },
     "execution_count": 13,
     "metadata": {},
     "output_type": "execute_result"
    }
   ],
   "source": [
    "# create a basics model and train with the train set \n",
    "rfm = RandomForestClassifier(n_jobs=-1)\n",
    "rfm.fit(X_train, y_train)"
   ]
  },
  {
   "cell_type": "code",
   "execution_count": 14,
   "id": "0c907c5f",
   "metadata": {
    "execution": {
     "iopub.execute_input": "2023-11-10T10:22:02.039423Z",
     "iopub.status.busy": "2023-11-10T10:22:02.039019Z",
     "iopub.status.idle": "2023-11-10T10:22:02.356843Z",
     "shell.execute_reply": "2023-11-10T10:22:02.355594Z"
    },
    "papermill": {
     "duration": 0.335649,
     "end_time": "2023-11-10T10:22:02.359556",
     "exception": false,
     "start_time": "2023-11-10T10:22:02.023907",
     "status": "completed"
    },
    "tags": []
   },
   "outputs": [
    {
     "name": "stdout",
     "output_type": "stream",
     "text": [
      "dummy model accuracy score = 0.9982795547909132\n",
      "random forest model accuracy score = 0.9995786664794073\n"
     ]
    },
    {
     "data": {
      "text/plain": [
       "1.0013013505908834"
      ]
     },
     "execution_count": 14,
     "metadata": {},
     "output_type": "execute_result"
    }
   ],
   "source": [
    "# creating a dummy model that flags all transactions as non-fraud \n",
    "dummy_acc = accuracy_score(y_true=y_test, y_pred=np.zeros(y_test.shape))\n",
    "print(f'dummy model accuracy score = {dummy_acc}')\n",
    "\n",
    "# obtaining the score of hte rfm model \n",
    "rfm_acc = accuracy_score(y_true=y_test, y_pred=rfm.predict(X_test))\n",
    "print(f'random forest model accuracy score = {rfm_acc}')\n",
    "\n",
    "# the dummy model achieves a accuracy of 0.9983\n",
    "# the rfm   model achieves a sccuracy of 0.9996\n",
    "\n",
    "rfm_acc/dummy_acc\n",
    "\n",
    "# that means the rfm model has an improvement factor of 1.00132 when only accuracy is taken into account\n",
    "# the sole reason the dummy model is performing well is because of the heavy class imbalance  "
   ]
  },
  {
   "cell_type": "code",
   "execution_count": 15,
   "id": "5d9ad6d0",
   "metadata": {
    "execution": {
     "iopub.execute_input": "2023-11-10T10:22:02.389325Z",
     "iopub.status.busy": "2023-11-10T10:22:02.388872Z",
     "iopub.status.idle": "2023-11-10T10:22:02.396420Z",
     "shell.execute_reply": "2023-11-10T10:22:02.395246Z"
    },
    "papermill": {
     "duration": 0.02533,
     "end_time": "2023-11-10T10:22:02.398732",
     "exception": false,
     "start_time": "2023-11-10T10:22:02.373402",
     "status": "completed"
    },
    "tags": []
   },
   "outputs": [],
   "source": [
    "# creating a function that calculates multiple scores and returns a dict\n",
    "# this can be used to input into a pandas dataframe\n",
    "def calc_scores(y_true, y_pred, sample_weight=None):\n",
    "    return {\n",
    "        \"accuracy_score\": accuracy_score(\n",
    "            y_true=y_true, y_pred=y_pred, sample_weight=sample_weight\n",
    "        ),\n",
    "        \"precision_score\": precision_score(\n",
    "            y_true=y_test, y_pred=y_pred, sample_weight=sample_weight, zero_division=0\n",
    "        ),\n",
    "        \"recall_score\": recall_score(\n",
    "            y_true=y_test, y_pred=y_pred, sample_weight=sample_weight\n",
    "        ),\n",
    "        \"f1_score\": f1_score(y_true=y_test, y_pred=y_pred, sample_weight=sample_weight),\n",
    "    }\n"
   ]
  },
  {
   "cell_type": "code",
   "execution_count": 16,
   "id": "3976cc1c",
   "metadata": {
    "execution": {
     "iopub.execute_input": "2023-11-10T10:22:02.428312Z",
     "iopub.status.busy": "2023-11-10T10:22:02.427873Z",
     "iopub.status.idle": "2023-11-10T10:22:02.850492Z",
     "shell.execute_reply": "2023-11-10T10:22:02.849318Z"
    },
    "papermill": {
     "duration": 0.440347,
     "end_time": "2023-11-10T10:22:02.853071",
     "exception": false,
     "start_time": "2023-11-10T10:22:02.412724",
     "status": "completed"
    },
    "tags": []
   },
   "outputs": [
    {
     "data": {
      "text/html": [
       "<div>\n",
       "<style scoped>\n",
       "    .dataframe tbody tr th:only-of-type {\n",
       "        vertical-align: middle;\n",
       "    }\n",
       "\n",
       "    .dataframe tbody tr th {\n",
       "        vertical-align: top;\n",
       "    }\n",
       "\n",
       "    .dataframe thead th {\n",
       "        text-align: right;\n",
       "    }\n",
       "</style>\n",
       "<table border=\"1\" class=\"dataframe\">\n",
       "  <thead>\n",
       "    <tr style=\"text-align: right;\">\n",
       "      <th></th>\n",
       "      <th>accuracy_score</th>\n",
       "      <th>precision_score</th>\n",
       "      <th>recall_score</th>\n",
       "      <th>f1_score</th>\n",
       "      <th>model</th>\n",
       "    </tr>\n",
       "  </thead>\n",
       "  <tbody>\n",
       "    <tr>\n",
       "      <th>0</th>\n",
       "      <td>0.998280</td>\n",
       "      <td>0.000000</td>\n",
       "      <td>0.000000</td>\n",
       "      <td>0.000000</td>\n",
       "      <td>dummy</td>\n",
       "    </tr>\n",
       "    <tr>\n",
       "      <th>0</th>\n",
       "      <td>0.999579</td>\n",
       "      <td>0.930233</td>\n",
       "      <td>0.816327</td>\n",
       "      <td>0.869565</td>\n",
       "      <td>random_forest</td>\n",
       "    </tr>\n",
       "  </tbody>\n",
       "</table>\n",
       "</div>"
      ],
      "text/plain": [
       "   accuracy_score  precision_score  recall_score  f1_score          model\n",
       "0        0.998280         0.000000      0.000000  0.000000          dummy\n",
       "0        0.999579         0.930233      0.816327  0.869565  random_forest"
      ]
     },
     "execution_count": 16,
     "metadata": {},
     "output_type": "execute_result"
    }
   ],
   "source": [
    "# dummy classifier, i.e. nothing is fraud\n",
    "dummy_scores = calc_scores(y_test, np.zeros(y_test.shape))\n",
    "# high accuracy but otherwise all is zero\n",
    "\n",
    "\n",
    "# scoers of our rfm model\n",
    "y_pred = rfm.predict(X_test)\n",
    "rfm_scores = calc_scores(y_test, y_pred)\n",
    "# the rfm model is scoring beter on the precision, recall scores\n",
    "# this then also translates to the f1 score, which is the harmonic mean of the other two scores\n",
    "\n",
    "df_scores = pd.concat(\n",
    "    [\n",
    "        pd.DataFrame(dummy_scores, index=[0]).assign(model=\"dummy\"),\n",
    "        pd.DataFrame(rfm_scores, index=[0]).assign(model=\"random_forest\"),\n",
    "    ]\n",
    ")\n",
    "df_scores\n"
   ]
  },
  {
   "cell_type": "markdown",
   "id": "b6df300f",
   "metadata": {
    "papermill": {
     "duration": 0.013602,
     "end_time": "2023-11-10T10:22:02.880923",
     "exception": false,
     "start_time": "2023-11-10T10:22:02.867321",
     "status": "completed"
    },
    "tags": []
   },
   "source": [
    "### take away\n",
    "The random forest model improves the statistical metrics of precision and recall. hooray \n",
    "however currently it makes no distiction between the false negatives and false positives.\n",
    "\n",
    "#### Class imbalance\n",
    "the dataset contains a heavy class imbalance which currently is not handedled at all.\n",
    "action: utilize class weighting, with inverse propensity weighting  \n",
    "\n",
    "#### Amount \n",
    "Currently, the model doesn’t take into account the amount of the transaction, from a business perspective\n",
    "the large fraud amount is something that you really want to block, the lower amount transaction have a lower priority.\n",
    "action: sample weighting that incorporates the amount, apply the same logic to the scoring function\n",
    "\n",
    "#### false positives \n",
    "these are genuine customers that are unable to buy items, and are therefore frustrated.\n",
    "if it happens to many times then they will switch to another provider.\n",
    "That is undesirable, the loss is the profit-margin of the amount, lets say 15% (i know we run a business with high margins ok)\n",
    "\n",
    "#### false negatives \n",
    "these are fraudelent transactions that are not blocked, resulting in 100% write-off of the amount.\n",
    "as we need to refund the original owner of the funds, and loss of goods.\n",
    "\n",
    "\n",
    "#### A-symmetry  \n",
    "that means that there is an asymmetry in the actuall business metric that we are trying to solve for \n",
    "therefore the statistical metrics of precision and recall are nice but only tell half the story.\n",
    "action: creating a custom scorer that takes into __account__ the amount of the __fn__ and __fp__ cases and applies business logic to it "
   ]
  },
  {
   "cell_type": "code",
   "execution_count": 17,
   "id": "8648edad",
   "metadata": {
    "execution": {
     "iopub.execute_input": "2023-11-10T10:22:02.911271Z",
     "iopub.status.busy": "2023-11-10T10:22:02.910859Z",
     "iopub.status.idle": "2023-11-10T10:23:42.053839Z",
     "shell.execute_reply": "2023-11-10T10:23:42.052051Z"
    },
    "papermill": {
     "duration": 99.175442,
     "end_time": "2023-11-10T10:23:42.070713",
     "exception": false,
     "start_time": "2023-11-10T10:22:02.895271",
     "status": "completed"
    },
    "tags": []
   },
   "outputs": [
    {
     "data": {
      "text/html": [
       "<style>#sk-container-id-2 {color: black;background-color: white;}#sk-container-id-2 pre{padding: 0;}#sk-container-id-2 div.sk-toggleable {background-color: white;}#sk-container-id-2 label.sk-toggleable__label {cursor: pointer;display: block;width: 100%;margin-bottom: 0;padding: 0.3em;box-sizing: border-box;text-align: center;}#sk-container-id-2 label.sk-toggleable__label-arrow:before {content: \"▸\";float: left;margin-right: 0.25em;color: #696969;}#sk-container-id-2 label.sk-toggleable__label-arrow:hover:before {color: black;}#sk-container-id-2 div.sk-estimator:hover label.sk-toggleable__label-arrow:before {color: black;}#sk-container-id-2 div.sk-toggleable__content {max-height: 0;max-width: 0;overflow: hidden;text-align: left;background-color: #f0f8ff;}#sk-container-id-2 div.sk-toggleable__content pre {margin: 0.2em;color: black;border-radius: 0.25em;background-color: #f0f8ff;}#sk-container-id-2 input.sk-toggleable__control:checked~div.sk-toggleable__content {max-height: 200px;max-width: 100%;overflow: auto;}#sk-container-id-2 input.sk-toggleable__control:checked~label.sk-toggleable__label-arrow:before {content: \"▾\";}#sk-container-id-2 div.sk-estimator input.sk-toggleable__control:checked~label.sk-toggleable__label {background-color: #d4ebff;}#sk-container-id-2 div.sk-label input.sk-toggleable__control:checked~label.sk-toggleable__label {background-color: #d4ebff;}#sk-container-id-2 input.sk-hidden--visually {border: 0;clip: rect(1px 1px 1px 1px);clip: rect(1px, 1px, 1px, 1px);height: 1px;margin: -1px;overflow: hidden;padding: 0;position: absolute;width: 1px;}#sk-container-id-2 div.sk-estimator {font-family: monospace;background-color: #f0f8ff;border: 1px dotted black;border-radius: 0.25em;box-sizing: border-box;margin-bottom: 0.5em;}#sk-container-id-2 div.sk-estimator:hover {background-color: #d4ebff;}#sk-container-id-2 div.sk-parallel-item::after {content: \"\";width: 100%;border-bottom: 1px solid gray;flex-grow: 1;}#sk-container-id-2 div.sk-label:hover label.sk-toggleable__label {background-color: #d4ebff;}#sk-container-id-2 div.sk-serial::before {content: \"\";position: absolute;border-left: 1px solid gray;box-sizing: border-box;top: 0;bottom: 0;left: 50%;z-index: 0;}#sk-container-id-2 div.sk-serial {display: flex;flex-direction: column;align-items: center;background-color: white;padding-right: 0.2em;padding-left: 0.2em;position: relative;}#sk-container-id-2 div.sk-item {position: relative;z-index: 1;}#sk-container-id-2 div.sk-parallel {display: flex;align-items: stretch;justify-content: center;background-color: white;position: relative;}#sk-container-id-2 div.sk-item::before, #sk-container-id-2 div.sk-parallel-item::before {content: \"\";position: absolute;border-left: 1px solid gray;box-sizing: border-box;top: 0;bottom: 0;left: 50%;z-index: -1;}#sk-container-id-2 div.sk-parallel-item {display: flex;flex-direction: column;z-index: 1;position: relative;background-color: white;}#sk-container-id-2 div.sk-parallel-item:first-child::after {align-self: flex-end;width: 50%;}#sk-container-id-2 div.sk-parallel-item:last-child::after {align-self: flex-start;width: 50%;}#sk-container-id-2 div.sk-parallel-item:only-child::after {width: 0;}#sk-container-id-2 div.sk-dashed-wrapped {border: 1px dashed gray;margin: 0 0.4em 0.5em 0.4em;box-sizing: border-box;padding-bottom: 0.4em;background-color: white;}#sk-container-id-2 div.sk-label label {font-family: monospace;font-weight: bold;display: inline-block;line-height: 1.2em;}#sk-container-id-2 div.sk-label-container {text-align: center;}#sk-container-id-2 div.sk-container {/* jupyter's `normalize.less` sets `[hidden] { display: none; }` but bootstrap.min.css set `[hidden] { display: none !important; }` so we also need the `!important` here to be able to override the default hidden behavior on the sphinx rendered scikit-learn.org. See: https://github.com/scikit-learn/scikit-learn/issues/21755 */display: inline-block !important;position: relative;}#sk-container-id-2 div.sk-text-repr-fallback {display: none;}</style><div id=\"sk-container-id-2\" class=\"sk-top-container\"><div class=\"sk-text-repr-fallback\"><pre>RandomForestClassifier(class_weight={0: 1, 1: 10}, n_jobs=-1)</pre><b>In a Jupyter environment, please rerun this cell to show the HTML representation or trust the notebook. <br />On GitHub, the HTML representation is unable to render, please try loading this page with nbviewer.org.</b></div><div class=\"sk-container\" hidden><div class=\"sk-item\"><div class=\"sk-estimator sk-toggleable\"><input class=\"sk-toggleable__control sk-hidden--visually\" id=\"sk-estimator-id-2\" type=\"checkbox\" checked><label for=\"sk-estimator-id-2\" class=\"sk-toggleable__label sk-toggleable__label-arrow\">RandomForestClassifier</label><div class=\"sk-toggleable__content\"><pre>RandomForestClassifier(class_weight={0: 1, 1: 10}, n_jobs=-1)</pre></div></div></div></div></div>"
      ],
      "text/plain": [
       "RandomForestClassifier(class_weight={0: 1, 1: 10}, n_jobs=-1)"
      ]
     },
     "execution_count": 17,
     "metadata": {},
     "output_type": "execute_result"
    }
   ],
   "source": [
    "### apply class imblance\n",
    "\n",
    "rfm_class_imbal = RandomForestClassifier(class_weight={0:1,1:10},n_jobs=-1)\n",
    "rfm_class_imbal.fit(X_train, y_train)"
   ]
  },
  {
   "cell_type": "code",
   "execution_count": 18,
   "id": "8457201e",
   "metadata": {
    "execution": {
     "iopub.execute_input": "2023-11-10T10:23:42.102408Z",
     "iopub.status.busy": "2023-11-10T10:23:42.101989Z",
     "iopub.status.idle": "2023-11-10T10:23:42.452434Z",
     "shell.execute_reply": "2023-11-10T10:23:42.451083Z"
    },
    "papermill": {
     "duration": 0.369763,
     "end_time": "2023-11-10T10:23:42.455196",
     "exception": false,
     "start_time": "2023-11-10T10:23:42.085433",
     "status": "completed"
    },
    "tags": []
   },
   "outputs": [
    {
     "data": {
      "text/html": [
       "<div>\n",
       "<style scoped>\n",
       "    .dataframe tbody tr th:only-of-type {\n",
       "        vertical-align: middle;\n",
       "    }\n",
       "\n",
       "    .dataframe tbody tr th {\n",
       "        vertical-align: top;\n",
       "    }\n",
       "\n",
       "    .dataframe thead th {\n",
       "        text-align: right;\n",
       "    }\n",
       "</style>\n",
       "<table border=\"1\" class=\"dataframe\">\n",
       "  <thead>\n",
       "    <tr style=\"text-align: right;\">\n",
       "      <th></th>\n",
       "      <th>accuracy_score</th>\n",
       "      <th>precision_score</th>\n",
       "      <th>recall_score</th>\n",
       "      <th>f1_score</th>\n",
       "      <th>model</th>\n",
       "    </tr>\n",
       "  </thead>\n",
       "  <tbody>\n",
       "    <tr>\n",
       "      <th>0</th>\n",
       "      <td>0.999579</td>\n",
       "      <td>0.962500</td>\n",
       "      <td>0.785714</td>\n",
       "      <td>0.865169</td>\n",
       "      <td>random_forest_class_imbal</td>\n",
       "    </tr>\n",
       "    <tr>\n",
       "      <th>0</th>\n",
       "      <td>0.998280</td>\n",
       "      <td>0.000000</td>\n",
       "      <td>0.000000</td>\n",
       "      <td>0.000000</td>\n",
       "      <td>dummy</td>\n",
       "    </tr>\n",
       "    <tr>\n",
       "      <th>0</th>\n",
       "      <td>0.999579</td>\n",
       "      <td>0.930233</td>\n",
       "      <td>0.816327</td>\n",
       "      <td>0.869565</td>\n",
       "      <td>random_forest</td>\n",
       "    </tr>\n",
       "  </tbody>\n",
       "</table>\n",
       "</div>"
      ],
      "text/plain": [
       "   accuracy_score  precision_score  recall_score  f1_score  \\\n",
       "0        0.999579         0.962500      0.785714  0.865169   \n",
       "0        0.998280         0.000000      0.000000  0.000000   \n",
       "0        0.999579         0.930233      0.816327  0.869565   \n",
       "\n",
       "                       model  \n",
       "0  random_forest_class_imbal  \n",
       "0                      dummy  \n",
       "0              random_forest  "
      ]
     },
     "execution_count": 18,
     "metadata": {},
     "output_type": "execute_result"
    }
   ],
   "source": [
    "rfm_class_imbal_scores = calc_scores(y_test, rfm_class_imbal.predict(X_test))\n",
    "\n",
    "df_scores = pd.concat(\n",
    "    [\n",
    "        pd.DataFrame(rfm_class_imbal_scores, index=[0]).assign(model=\"random_forest_class_imbal\"),\n",
    "        df_scores\n",
    "    ]\n",
    ")\n",
    "df_scores"
   ]
  },
  {
   "cell_type": "markdown",
   "id": "5f455729",
   "metadata": {
    "execution": {
     "iopub.execute_input": "2023-11-10T09:18:58.553041Z",
     "iopub.status.busy": "2023-11-10T09:18:58.552615Z",
     "iopub.status.idle": "2023-11-10T09:18:58.603490Z",
     "shell.execute_reply": "2023-11-10T09:18:58.602215Z",
     "shell.execute_reply.started": "2023-11-10T09:18:58.553007Z"
    },
    "papermill": {
     "duration": 0.01434,
     "end_time": "2023-11-10T10:23:42.484286",
     "exception": false,
     "start_time": "2023-11-10T10:23:42.469946",
     "status": "completed"
    },
    "tags": []
   },
   "source": [
    "takeaways\n",
    "- the class weighting only imporved the precision, which intuitivly makes sense as the fraud cases are weighted more heavily so, we are teaching the model to only select the transactions if the certainty is high.\n",
    "\n",
    "- the recall drops, most likely because if the model has low confidence in the classification it doesnt select it, in combination with the internal metric that the model is solving for namely accuracy.\n",
    "\n",
    "- the accuracy has not changed between the models \n",
    "\n",
    "lets experiment with introducing sample weighting, the higher the amount the more interest we have in capturing that transaction"
   ]
  },
  {
   "cell_type": "code",
   "execution_count": 19,
   "id": "d5235f94",
   "metadata": {
    "execution": {
     "iopub.execute_input": "2023-11-10T10:23:42.516709Z",
     "iopub.status.busy": "2023-11-10T10:23:42.516305Z",
     "iopub.status.idle": "2023-11-10T10:23:42.526789Z",
     "shell.execute_reply": "2023-11-10T10:23:42.525751Z"
    },
    "papermill": {
     "duration": 0.029996,
     "end_time": "2023-11-10T10:23:42.529561",
     "exception": false,
     "start_time": "2023-11-10T10:23:42.499565",
     "status": "completed"
    },
    "tags": []
   },
   "outputs": [],
   "source": [
    "# utilize the amount as a sample weighting \n",
    "# applying a log + 1 transform, this will handle the case if the amount is zero \n",
    "# and it will direct the model to not only focus on a handfull of big transactions \n",
    "\n",
    "sample_weight = np.log1p(X_train['Amount'])"
   ]
  },
  {
   "cell_type": "code",
   "execution_count": 20,
   "id": "d6279319",
   "metadata": {
    "execution": {
     "iopub.execute_input": "2023-11-10T10:23:42.560914Z",
     "iopub.status.busy": "2023-11-10T10:23:42.560481Z",
     "iopub.status.idle": "2023-11-10T10:25:16.102478Z",
     "shell.execute_reply": "2023-11-10T10:25:16.101088Z"
    },
    "papermill": {
     "duration": 93.57595,
     "end_time": "2023-11-10T10:25:16.120261",
     "exception": false,
     "start_time": "2023-11-10T10:23:42.544311",
     "status": "completed"
    },
    "tags": []
   },
   "outputs": [
    {
     "data": {
      "text/html": [
       "<style>#sk-container-id-3 {color: black;background-color: white;}#sk-container-id-3 pre{padding: 0;}#sk-container-id-3 div.sk-toggleable {background-color: white;}#sk-container-id-3 label.sk-toggleable__label {cursor: pointer;display: block;width: 100%;margin-bottom: 0;padding: 0.3em;box-sizing: border-box;text-align: center;}#sk-container-id-3 label.sk-toggleable__label-arrow:before {content: \"▸\";float: left;margin-right: 0.25em;color: #696969;}#sk-container-id-3 label.sk-toggleable__label-arrow:hover:before {color: black;}#sk-container-id-3 div.sk-estimator:hover label.sk-toggleable__label-arrow:before {color: black;}#sk-container-id-3 div.sk-toggleable__content {max-height: 0;max-width: 0;overflow: hidden;text-align: left;background-color: #f0f8ff;}#sk-container-id-3 div.sk-toggleable__content pre {margin: 0.2em;color: black;border-radius: 0.25em;background-color: #f0f8ff;}#sk-container-id-3 input.sk-toggleable__control:checked~div.sk-toggleable__content {max-height: 200px;max-width: 100%;overflow: auto;}#sk-container-id-3 input.sk-toggleable__control:checked~label.sk-toggleable__label-arrow:before {content: \"▾\";}#sk-container-id-3 div.sk-estimator input.sk-toggleable__control:checked~label.sk-toggleable__label {background-color: #d4ebff;}#sk-container-id-3 div.sk-label input.sk-toggleable__control:checked~label.sk-toggleable__label {background-color: #d4ebff;}#sk-container-id-3 input.sk-hidden--visually {border: 0;clip: rect(1px 1px 1px 1px);clip: rect(1px, 1px, 1px, 1px);height: 1px;margin: -1px;overflow: hidden;padding: 0;position: absolute;width: 1px;}#sk-container-id-3 div.sk-estimator {font-family: monospace;background-color: #f0f8ff;border: 1px dotted black;border-radius: 0.25em;box-sizing: border-box;margin-bottom: 0.5em;}#sk-container-id-3 div.sk-estimator:hover {background-color: #d4ebff;}#sk-container-id-3 div.sk-parallel-item::after {content: \"\";width: 100%;border-bottom: 1px solid gray;flex-grow: 1;}#sk-container-id-3 div.sk-label:hover label.sk-toggleable__label {background-color: #d4ebff;}#sk-container-id-3 div.sk-serial::before {content: \"\";position: absolute;border-left: 1px solid gray;box-sizing: border-box;top: 0;bottom: 0;left: 50%;z-index: 0;}#sk-container-id-3 div.sk-serial {display: flex;flex-direction: column;align-items: center;background-color: white;padding-right: 0.2em;padding-left: 0.2em;position: relative;}#sk-container-id-3 div.sk-item {position: relative;z-index: 1;}#sk-container-id-3 div.sk-parallel {display: flex;align-items: stretch;justify-content: center;background-color: white;position: relative;}#sk-container-id-3 div.sk-item::before, #sk-container-id-3 div.sk-parallel-item::before {content: \"\";position: absolute;border-left: 1px solid gray;box-sizing: border-box;top: 0;bottom: 0;left: 50%;z-index: -1;}#sk-container-id-3 div.sk-parallel-item {display: flex;flex-direction: column;z-index: 1;position: relative;background-color: white;}#sk-container-id-3 div.sk-parallel-item:first-child::after {align-self: flex-end;width: 50%;}#sk-container-id-3 div.sk-parallel-item:last-child::after {align-self: flex-start;width: 50%;}#sk-container-id-3 div.sk-parallel-item:only-child::after {width: 0;}#sk-container-id-3 div.sk-dashed-wrapped {border: 1px dashed gray;margin: 0 0.4em 0.5em 0.4em;box-sizing: border-box;padding-bottom: 0.4em;background-color: white;}#sk-container-id-3 div.sk-label label {font-family: monospace;font-weight: bold;display: inline-block;line-height: 1.2em;}#sk-container-id-3 div.sk-label-container {text-align: center;}#sk-container-id-3 div.sk-container {/* jupyter's `normalize.less` sets `[hidden] { display: none; }` but bootstrap.min.css set `[hidden] { display: none !important; }` so we also need the `!important` here to be able to override the default hidden behavior on the sphinx rendered scikit-learn.org. See: https://github.com/scikit-learn/scikit-learn/issues/21755 */display: inline-block !important;position: relative;}#sk-container-id-3 div.sk-text-repr-fallback {display: none;}</style><div id=\"sk-container-id-3\" class=\"sk-top-container\"><div class=\"sk-text-repr-fallback\"><pre>RandomForestClassifier(class_weight={0: 1, 1: 10}, n_jobs=-1)</pre><b>In a Jupyter environment, please rerun this cell to show the HTML representation or trust the notebook. <br />On GitHub, the HTML representation is unable to render, please try loading this page with nbviewer.org.</b></div><div class=\"sk-container\" hidden><div class=\"sk-item\"><div class=\"sk-estimator sk-toggleable\"><input class=\"sk-toggleable__control sk-hidden--visually\" id=\"sk-estimator-id-3\" type=\"checkbox\" checked><label for=\"sk-estimator-id-3\" class=\"sk-toggleable__label sk-toggleable__label-arrow\">RandomForestClassifier</label><div class=\"sk-toggleable__content\"><pre>RandomForestClassifier(class_weight={0: 1, 1: 10}, n_jobs=-1)</pre></div></div></div></div></div>"
      ],
      "text/plain": [
       "RandomForestClassifier(class_weight={0: 1, 1: 10}, n_jobs=-1)"
      ]
     },
     "execution_count": 20,
     "metadata": {},
     "output_type": "execute_result"
    }
   ],
   "source": [
    "# adding the created sample weight during the fit method \n",
    "# this will weight each sample differently based on the amoutn \n",
    "rfm_sample_weight = RandomForestClassifier(class_weight={0:1,1:10},n_jobs=-1)\n",
    "rfm_sample_weight.fit(X_train, y_train, sample_weight=sample_weight)"
   ]
  },
  {
   "cell_type": "code",
   "execution_count": 21,
   "id": "2c03515a",
   "metadata": {
    "execution": {
     "iopub.execute_input": "2023-11-10T10:25:16.225595Z",
     "iopub.status.busy": "2023-11-10T10:25:16.225142Z",
     "iopub.status.idle": "2023-11-10T10:25:16.626756Z",
     "shell.execute_reply": "2023-11-10T10:25:16.624860Z"
    },
    "papermill": {
     "duration": 0.494408,
     "end_time": "2023-11-10T10:25:16.629889",
     "exception": false,
     "start_time": "2023-11-10T10:25:16.135481",
     "status": "completed"
    },
    "tags": []
   },
   "outputs": [
    {
     "data": {
      "text/html": [
       "<div>\n",
       "<style scoped>\n",
       "    .dataframe tbody tr th:only-of-type {\n",
       "        vertical-align: middle;\n",
       "    }\n",
       "\n",
       "    .dataframe tbody tr th {\n",
       "        vertical-align: top;\n",
       "    }\n",
       "\n",
       "    .dataframe thead th {\n",
       "        text-align: right;\n",
       "    }\n",
       "</style>\n",
       "<table border=\"1\" class=\"dataframe\">\n",
       "  <thead>\n",
       "    <tr style=\"text-align: right;\">\n",
       "      <th></th>\n",
       "      <th>accuracy_score</th>\n",
       "      <th>precision_score</th>\n",
       "      <th>recall_score</th>\n",
       "      <th>f1_score</th>\n",
       "      <th>model</th>\n",
       "    </tr>\n",
       "  </thead>\n",
       "  <tbody>\n",
       "    <tr>\n",
       "      <th>0</th>\n",
       "      <td>0.999661</td>\n",
       "      <td>0.993554</td>\n",
       "      <td>0.782588</td>\n",
       "      <td>0.875542</td>\n",
       "      <td>random_forest_sample_weights</td>\n",
       "    </tr>\n",
       "    <tr>\n",
       "      <th>0</th>\n",
       "      <td>0.999579</td>\n",
       "      <td>0.962500</td>\n",
       "      <td>0.785714</td>\n",
       "      <td>0.865169</td>\n",
       "      <td>random_forest_class_imbal</td>\n",
       "    </tr>\n",
       "    <tr>\n",
       "      <th>0</th>\n",
       "      <td>0.998280</td>\n",
       "      <td>0.000000</td>\n",
       "      <td>0.000000</td>\n",
       "      <td>0.000000</td>\n",
       "      <td>dummy</td>\n",
       "    </tr>\n",
       "    <tr>\n",
       "      <th>0</th>\n",
       "      <td>0.999579</td>\n",
       "      <td>0.930233</td>\n",
       "      <td>0.816327</td>\n",
       "      <td>0.869565</td>\n",
       "      <td>random_forest</td>\n",
       "    </tr>\n",
       "  </tbody>\n",
       "</table>\n",
       "</div>"
      ],
      "text/plain": [
       "   accuracy_score  precision_score  recall_score  f1_score  \\\n",
       "0        0.999661         0.993554      0.782588  0.875542   \n",
       "0        0.999579         0.962500      0.785714  0.865169   \n",
       "0        0.998280         0.000000      0.000000  0.000000   \n",
       "0        0.999579         0.930233      0.816327  0.869565   \n",
       "\n",
       "                          model  \n",
       "0  random_forest_sample_weights  \n",
       "0     random_forest_class_imbal  \n",
       "0                         dummy  \n",
       "0                 random_forest  "
      ]
     },
     "execution_count": 21,
     "metadata": {},
     "output_type": "execute_result"
    }
   ],
   "source": [
    "# in order to accuratly reflect the performance of the model \n",
    "# the smaple weights also need to be include in the scoreing func\n",
    "\n",
    "sample_weight_test = np.log1p(X_test['Amount'])\n",
    "rfm_sample_weight_scores = calc_scores(\n",
    "    y_test, rfm_sample_weight.predict(X_test), sample_weight=sample_weight_test\n",
    ")\n",
    "\n",
    "df_scores = pd.concat(\n",
    "    [\n",
    "        pd.DataFrame(rfm_sample_weight_scores, index=[0]).assign(\n",
    "            model=\"random_forest_sample_weights\"\n",
    "        ),\n",
    "        df_scores,\n",
    "    ]\n",
    ")\n",
    "df_scores\n"
   ]
  },
  {
   "cell_type": "markdown",
   "id": "6649eb7e",
   "metadata": {
    "papermill": {
     "duration": 0.015637,
     "end_time": "2023-11-10T10:25:16.662653",
     "exception": false,
     "start_time": "2023-11-10T10:25:16.647016",
     "status": "completed"
    },
    "tags": []
   },
   "source": [
    "a clear uplift for all metrics can be seen and we have a model that performs pretty well\n",
    "when looking at these statistical metrics.\n",
    "however the other metrics have been calculated without the smaple weighting, therefore the comparison cannot be made like-for-like\n",
    "\n"
   ]
  },
  {
   "cell_type": "code",
   "execution_count": 22,
   "id": "29b8f93f",
   "metadata": {
    "execution": {
     "iopub.execute_input": "2023-11-10T10:25:16.699968Z",
     "iopub.status.busy": "2023-11-10T10:25:16.698599Z",
     "iopub.status.idle": "2023-11-10T10:25:18.008323Z",
     "shell.execute_reply": "2023-11-10T10:25:18.007118Z"
    },
    "papermill": {
     "duration": 1.331149,
     "end_time": "2023-11-10T10:25:18.010993",
     "exception": false,
     "start_time": "2023-11-10T10:25:16.679844",
     "status": "completed"
    },
    "tags": []
   },
   "outputs": [
    {
     "data": {
      "text/html": [
       "<div>\n",
       "<style scoped>\n",
       "    .dataframe tbody tr th:only-of-type {\n",
       "        vertical-align: middle;\n",
       "    }\n",
       "\n",
       "    .dataframe tbody tr th {\n",
       "        vertical-align: top;\n",
       "    }\n",
       "\n",
       "    .dataframe thead th {\n",
       "        text-align: right;\n",
       "    }\n",
       "</style>\n",
       "<table border=\"1\" class=\"dataframe\">\n",
       "  <thead>\n",
       "    <tr style=\"text-align: right;\">\n",
       "      <th></th>\n",
       "      <th>accuracy_score</th>\n",
       "      <th>precision_score</th>\n",
       "      <th>recall_score</th>\n",
       "      <th>f1_score</th>\n",
       "      <th>model</th>\n",
       "    </tr>\n",
       "  </thead>\n",
       "  <tbody>\n",
       "    <tr>\n",
       "      <th>0</th>\n",
       "      <td>0.998478</td>\n",
       "      <td>0.000000</td>\n",
       "      <td>0.000000</td>\n",
       "      <td>0.000000</td>\n",
       "      <td>dummy</td>\n",
       "    </tr>\n",
       "    <tr>\n",
       "      <th>0</th>\n",
       "      <td>0.999722</td>\n",
       "      <td>0.973037</td>\n",
       "      <td>0.840847</td>\n",
       "      <td>0.902125</td>\n",
       "      <td>random_forest</td>\n",
       "    </tr>\n",
       "    <tr>\n",
       "      <th>0</th>\n",
       "      <td>0.999662</td>\n",
       "      <td>0.990979</td>\n",
       "      <td>0.785126</td>\n",
       "      <td>0.876123</td>\n",
       "      <td>random_forest_class_imbal</td>\n",
       "    </tr>\n",
       "    <tr>\n",
       "      <th>0</th>\n",
       "      <td>0.999661</td>\n",
       "      <td>0.993554</td>\n",
       "      <td>0.782588</td>\n",
       "      <td>0.875542</td>\n",
       "      <td>random_forest_sample_weights</td>\n",
       "    </tr>\n",
       "  </tbody>\n",
       "</table>\n",
       "</div>"
      ],
      "text/plain": [
       "   accuracy_score  precision_score  recall_score  f1_score  \\\n",
       "0        0.998478         0.000000      0.000000  0.000000   \n",
       "0        0.999722         0.973037      0.840847  0.902125   \n",
       "0        0.999662         0.990979      0.785126  0.876123   \n",
       "0        0.999661         0.993554      0.782588  0.875542   \n",
       "\n",
       "                          model  \n",
       "0                         dummy  \n",
       "0                 random_forest  \n",
       "0     random_forest_class_imbal  \n",
       "0  random_forest_sample_weights  "
      ]
     },
     "execution_count": 22,
     "metadata": {},
     "output_type": "execute_result"
    }
   ],
   "source": [
    "# dummy classifier\n",
    "dummy_scores = calc_scores(\n",
    "    y_test, np.zeros(y_test.shape), sample_weight=sample_weight_test\n",
    ")\n",
    "\n",
    "# random forest vanilla\n",
    "rfm_scores = calc_scores(y_test, rfm.predict(X_test), sample_weight=sample_weight_test)\n",
    "\n",
    "\n",
    "# random forest with the class weighting\n",
    "rfm_class_imbal_scores = calc_scores(\n",
    "    y_test, rfm_class_imbal.predict(X_test), sample_weight=sample_weight_test\n",
    ")\n",
    "\n",
    "\n",
    "# random forest with sample weighting\n",
    "rfm_sample_weight_scores = calc_scores(\n",
    "    y_test, rfm_sample_weight.predict(X_test), sample_weight=sample_weight_test\n",
    ")\n",
    "\n",
    "df_scores_sample_weights = pd.concat(\n",
    "    [\n",
    "        pd.DataFrame(dummy_scores, index=[0]).assign(model=\"dummy\"),\n",
    "        pd.DataFrame(rfm_scores, index=[0]).assign(model=\"random_forest\"),\n",
    "        pd.DataFrame(rfm_class_imbal_scores, index=[0]).assign(\n",
    "            model=\"random_forest_class_imbal\"\n",
    "        ),\n",
    "        pd.DataFrame(rfm_sample_weight_scores, index=[0]).assign(\n",
    "            model=\"random_forest_sample_weights\"\n",
    "        ),\n",
    "\n",
    "    ]\n",
    ")\n",
    "df_scores_sample_weights\n"
   ]
  },
  {
   "cell_type": "code",
   "execution_count": null,
   "id": "559c878f",
   "metadata": {
    "papermill": {
     "duration": 0.016108,
     "end_time": "2023-11-10T10:25:18.042851",
     "exception": false,
     "start_time": "2023-11-10T10:25:18.026743",
     "status": "completed"
    },
    "tags": []
   },
   "outputs": [],
   "source": []
  }
 ],
 "metadata": {
  "kernelspec": {
   "display_name": "Python 3",
   "language": "python",
   "name": "python3"
  },
  "language_info": {
   "codemirror_mode": {
    "name": "ipython",
    "version": 3
   },
   "file_extension": ".py",
   "mimetype": "text/x-python",
   "name": "python",
   "nbconvert_exporter": "python",
   "pygments_lexer": "ipython3",
   "version": "3.10.12"
  },
  "papermill": {
   "default_parameters": {},
   "duration": 380.217266,
   "end_time": "2023-11-10T10:25:19.886789",
   "environment_variables": {},
   "exception": null,
   "input_path": "__notebook__.ipynb",
   "output_path": "__notebook__.ipynb",
   "parameters": {},
   "start_time": "2023-11-10T10:18:59.669523",
   "version": "2.4.0"
  }
 },
 "nbformat": 4,
 "nbformat_minor": 5
}
